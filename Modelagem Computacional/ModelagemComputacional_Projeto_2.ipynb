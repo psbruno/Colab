{
  "nbformat": 4,
  "nbformat_minor": 0,
  "metadata": {
    "colab": {
      "name": "ModelagemComputacional-Projeto 2.ipynb",
      "provenance": [],
      "collapsed_sections": []
    },
    "kernelspec": {
      "display_name": "Python 3",
      "name": "python3"
    },
    "language_info": {
      "name": "python"
    }
  },
  "cells": [
    {
      "cell_type": "markdown",
      "metadata": {
        "id": "rKQsw22ukGj7"
      },
      "source": [
        "$$\n",
        " \\textbf{Miguel Julio de Freitas - 142527}\n",
        "$$\n",
        "\n",
        "$$\n",
        " \\textbf{Victor Antonio Bueno - 140849}\n",
        "$$\n",
        "\n",
        "$$\n",
        " \\textbf{Yuri Akira Shiba - 139888}\n",
        "$$\n"
      ]
    },
    {
      "cell_type": "markdown",
      "metadata": {
        "id": "Yiq_-_a5uTaN"
      },
      "source": [
        "\n",
        "\n",
        "\n",
        "# **Projeto 02 - Simulação de Neurônios**"
      ]
    },
    {
      "cell_type": "markdown",
      "metadata": {
        "id": "-ybRFvUuuFfk"
      },
      "source": [
        "## **Modelagem** \n",
        "\n"
      ]
    },
    {
      "cell_type": "markdown",
      "metadata": {
        "id": "zwtgIbIj48it"
      },
      "source": [
        "Este projeto tem como objetivo compreender o funcionamento de um conjunto de neurônios, mais especificamente, em uma rede onde um está acoplado a outro.\n",
        "\n",
        "Para tal, utilizaremos o modelo Van der Pol de oscilador de relaxamento, este leva em consideração duas variáveis x (excitatória) e y (inibitória).\n",
        "\n",
        "$$\n",
        "\\dfrac {dx}{dt} = 3x - x^3 + 2 - y + I + ρ\n",
        "$$\n",
        "\n",
        "$$\n",
        "\\dfrac {dy}{dt} = ε (α(1+tanh(x/β)) - y )\n",
        "$$\n",
        "\n",
        "\n",
        "> Nas equações acima, I se trata de um esímulo externo, ε é um pequeno número positivo e tanto α como β se tratam de parâmetros do problema.\n",
        "\n",
        "Nesse cenário, os neurônios poderão oscilar entre dois estados: pulso e relaxamento.\n",
        "\n",
        "Ainda, a fim de realizar nosso estudo, iremos utilizar uma equação para descrever a forma de acoplamento entre esses neurônios e ela vai se dar por:\n",
        "\n",
        "$$\n",
        "Sᵢ = \\sum\\limits_{k∈N(i)}^{}wᵢₖH(xₖ - θ)\n",
        "$$\n",
        "\n",
        "> Onde Wik define a força deste acoplamento, N(i) se trata da vizinhança do neurônio i e H() define que se x for maior que theta o retorno é 1 e caso contrário 0, vale ressaltar que theta se trata de um limiar de corte.\n",
        "\n",
        "\n",
        "\n"
      ]
    },
    {
      "cell_type": "markdown",
      "metadata": {
        "id": "OC_1qiVe-McN"
      },
      "source": [
        "Para este projeto, algumas características foram pré-definidas:\n",
        "- A rede de neurônios acoplados formará uma rede regular circular.\n",
        "- Haverão 500 neurônios nesta simulação.\n",
        "- O grau de vizinhança dos neurônios será 2.\n",
        "\n",
        "Além disso, teremos como parâmetros iniciais:"
      ]
    },
    {
      "cell_type": "code",
      "metadata": {
        "id": "kTFJNii2-6t9"
      },
      "source": [
        "# Parâmetros do Modelo\n",
        "nNeuronios = 500\n",
        "theta = 0.5\n",
        "alpha = 6.0\n",
        "epsilon = 0.02\n",
        "beta = 0.1\n",
        "IAtivo = 0.2\n",
        "IInativo = -0.02\n",
        "wki = 0.1\n",
        "rho = 0\n",
        "deltaT = 0.01\n",
        "tempoSimulacao = 10\n"
      ],
      "execution_count": 1,
      "outputs": []
    },
    {
      "cell_type": "markdown",
      "metadata": {
        "id": "fm9osmF1uIde"
      },
      "source": [
        "## **Implementação**"
      ]
    },
    {
      "cell_type": "markdown",
      "metadata": {
        "id": "LeXqGGkr0-OK"
      },
      "source": [
        "A seguir as biliotecas utilizadas:"
      ]
    },
    {
      "cell_type": "code",
      "metadata": {
        "id": "jAOB8_3yj2j5"
      },
      "source": [
        "import random as rand # Para gerarmos valores aleatórios \n",
        "import matplotlib.pyplot as plt # Para plotarmos os gráficos\n",
        "\n",
        "import math # Para utilização do método tanh()"
      ],
      "execution_count": 2,
      "outputs": []
    },
    {
      "cell_type": "markdown",
      "metadata": {
        "id": "r1jSDsm-Knl5"
      },
      "source": [
        "O primeiro a ser feito será a criação de métodos para auxiliar os cálculos."
      ]
    },
    {
      "cell_type": "code",
      "metadata": {
        "id": "M_x84H5nJ95W"
      },
      "source": [
        "def calculaAcoplamento(xAnterior, xProximo):\n",
        "  if (xAnterior >= theta and xProximo >= theta):\n",
        "    return 2 * wki\n",
        "  else:\n",
        "    if (xAnterior >= theta or xProximo >= theta):\n",
        "      return wki\n",
        "\n",
        "  return 0\n",
        "\n",
        "def calculaDeltaX(neuronio, xAnterior, xProximo):\n",
        "  indiceMaxX = len(neuronio.x) - 1\n",
        "  indiceMaxY = len(neuronio.y) - 1\n",
        "  dX = (\n",
        "    3 * neuronio.x[indiceMaxX] - (neuronio.x[indiceMaxX] ** 3) + 2 - neuronio.y[indiceMaxY] + neuronio.I + rho + calculaAcoplamento(xAnterior, xProximo)\n",
        "  ) * deltaT\n",
        "\n",
        "  neuronio.x.append(neuronio.x[indiceMaxX] + dX)\n",
        "\n",
        "def calculaDeltaY(neuronio):\n",
        "  indiceMaxX = len(neuronio.x) - 2\n",
        "  indiceMaxY = len(neuronio.y) - 1\n",
        "  dY = epsilon * (alpha * (1 + math.tanh(neuronio.x[indiceMaxX] / beta )) - neuronio.y[indiceMaxY]) * deltaT\n",
        "\n",
        "  neuronio.y.append(neuronio.y[indiceMaxY] + dY)"
      ],
      "execution_count": 3,
      "outputs": []
    },
    {
      "cell_type": "markdown",
      "metadata": {
        "id": "6kFpvRzW_tV4"
      },
      "source": [
        "Aqui temos a definição de uma estrutura simples para os neurônios:"
      ]
    },
    {
      "cell_type": "code",
      "metadata": {
        "id": "7l1H0HsL_0hh"
      },
      "source": [
        "class Neuronio:\n",
        "    def __init__(self, I):\n",
        "        self.x = [rand.random() * 4 - 2]\n",
        "        self.y = [rand.random() * 4]\n",
        "        self.I = I\n",
        "        #self.I = IAtivo if rand.randrange(10) >= 5 else IInativo"
      ],
      "execution_count": 4,
      "outputs": []
    },
    {
      "cell_type": "markdown",
      "metadata": {
        "id": "-4A1iKXA1LXV"
      },
      "source": [
        "Agora, podemos fazer o método que criará a rede circular regular de grau 2 com os 500 neurônios."
      ]
    },
    {
      "cell_type": "code",
      "metadata": {
        "id": "Y-PQFPtR1JuZ"
      },
      "source": [
        "'''\n",
        "redeNeuronios = []\n",
        "\n",
        "for i in range(nNeuronios):\n",
        "    redeNeuronios.append(Neuronio())\n",
        "'''\n",
        "\n",
        "def iniciaRede(nNeuronios, redeNeuronios, nAtivos):\n",
        "  for i in range(nNeuronios):\n",
        "    if (i <= nAtivos):\n",
        "      redeNeuronios.append(Neuronio(IAtivo))\n",
        "    else:\n",
        "      redeNeuronios.append(Neuronio(IInativo))\n",
        "\n",
        "  return redeNeuronios"
      ],
      "execution_count": 5,
      "outputs": []
    },
    {
      "cell_type": "markdown",
      "metadata": {
        "id": "lM6Yw8Cz9RKl"
      },
      "source": [
        "E então definimos a realização da simulação:"
      ]
    },
    {
      "cell_type": "code",
      "metadata": {
        "id": "6p0uQjwhV1B-"
      },
      "source": [
        "'''\n",
        "for i in range(tempoSimulacao):\n",
        "    for j in range(nNeuronios):\n",
        "        ant = redeNeuronios[(j - 1) % nNeuronios]\n",
        "        xDoAnterior = ant.x[len(ant.x) - 1]\n",
        "\n",
        "        prox = redeNeuronios[(j + 1) % nNeuronios]\n",
        "        xDoProximo = prox.x[len(prox.x) - 1]\n",
        "\n",
        "        calculaDeltaX(redeNeuronios[j], xDoAnterior, xDoProximo)\n",
        "        calculaDeltaY(redeNeuronios[j])\n",
        "'''\n",
        "\n",
        "def realizaSimulacao(nNeuronios, redeNeuronios, tempoSimulacao,intervaloDeDados):\n",
        "  x = []\n",
        "  y = []\n",
        "  \n",
        "  for i in range(tempoSimulacao):\n",
        "    if (i % intervaloDeDados == 0):\n",
        "      x.append([])\n",
        "      y.append([])\n",
        "    for j in range(nNeuronios):\n",
        "      ant = redeNeuronios[(j - 1) % nNeuronios]\n",
        "      xDoAnterior = ant.x[len(ant.x) - 1]\n",
        "\n",
        "      prox = redeNeuronios[(j + 1) % nNeuronios]\n",
        "      xDoProximo = prox.x[len(prox.x) - 1]\n",
        "\n",
        "      calculaDeltaX(redeNeuronios[j], xDoAnterior, xDoProximo)\n",
        "      calculaDeltaY(redeNeuronios[j])\n",
        "      if (i % intervaloDeDados == 0):\n",
        "        x[i // intervaloDeDados].append(redeNeuronios[j].x)\n",
        "        y[i // intervaloDeDados].append(redeNeuronios[j].y)\n",
        "\n",
        "            #descobrir pq isso da errado para q possamos armazenar apenas alguns valores entre intervalos de tempo\n",
        "            #x[i].append(redeNeuronios[j].x)\n",
        "            #y[i].append(redeNeuronios[j].y)\n",
        "\n",
        "  return x, y"
      ],
      "execution_count": 6,
      "outputs": []
    },
    {
      "cell_type": "markdown",
      "metadata": {
        "id": "a46Rd9Fkcx6H"
      },
      "source": [
        "## **Gráficos**"
      ]
    },
    {
      "cell_type": "markdown",
      "metadata": {
        "id": "v-Eyf6EiqPSH"
      },
      "source": [
        "### Simulação com todos os neurônios ativos"
      ]
    },
    {
      "cell_type": "code",
      "metadata": {
        "id": "kkHIHsw-9ITW"
      },
      "source": [
        "redeNeuronios = []\n",
        "nNeuronios = 100\n",
        "tempoSimulacao = 500000\n",
        "intervaloDeDados = 1000\n",
        "redeNeuronios = iniciaRede(nNeuronios, redeNeuronios, nNeuronios)\n",
        "#dados = realizaSimulacao(nNeuronios, redeNeuronios, tempoSimulacao, intervaloDeDados)\n",
        "realizaSimulacao(nNeuronios, redeNeuronios, tempoSimulacao, intervaloDeDados)\n",
        "\n",
        "for i in range(nNeuronios):\n",
        "  plt.plot(range(tempoSimulacao + 1) ,redeNeuronios[i].y )\n",
        "  #plt.plot(range(tempoSimulacao // intervaloDeDados + 1), dados[1][i] )\n",
        "\n",
        "plt.show()"
      ],
      "execution_count": null,
      "outputs": []
    },
    {
      "cell_type": "markdown",
      "metadata": {
        "id": "2PnnT6ZAqaWi"
      },
      "source": [
        "### Simulação com metade dos neurônios inativos"
      ]
    },
    {
      "cell_type": "code",
      "metadata": {
        "id": "ylXshEIbq59g"
      },
      "source": [
        "redeNeuronios = []\n",
        "nNeuronios = 100\n",
        "nNeuroniosAtivos = (nNeuronios/2) - 1\n",
        "tempoSimulacao = 200000\n",
        "intervaloDeDados = 1\n",
        "\n",
        "redeNeuronios = iniciaRede(nNeuronios, redeNeuronios, 10)\n",
        "realizaSimulacao(nNeuronios, redeNeuronios, tempoSimulacao, intervaloDeDados)\n",
        "\n",
        "\n",
        "for i in range(nNeuronios):\n",
        "  plt.plot(range(tempoSimulacao + 1) ,redeNeuronios[i].y )\n",
        "\n",
        "#plt.figure(figsize=(100,9))\n",
        "#plt.show()\n",
        "\n",
        "\n",
        "plt.show()"
      ],
      "execution_count": null,
      "outputs": []
    },
    {
      "cell_type": "markdown",
      "metadata": {
        "id": "IF9fyjE5q94v"
      },
      "source": [
        "### Simulação com todos os neurônios inativos"
      ]
    },
    {
      "cell_type": "code",
      "metadata": {
        "id": "eRbu9lRhq-Xm"
      },
      "source": [
        "redeNeuronios = []\n",
        "nNeuronios = 100\n",
        "nNeuroniosAtivos = 0 - 1\n",
        "tempoSimulacao = 100000\n",
        "intervaloDeDados = 1\n",
        "\n",
        "redeNeuronios = iniciaRede(nNeuronios, redeNeuronios, nNeuroniosAtivos)\n",
        "realizaSimulacao(nNeuronios, redeNeuronios, tempoSimulacao, intervaloDeDados)\n",
        "\n",
        "\n",
        "for i in range(nNeuronios):\n",
        "  plt.plot(range(tempoSimulacao + 1) ,redeNeuronios[i].y )\n",
        "\n",
        "#plt.figure(figsize=(100,9))\n",
        "#plt.show()\n",
        "\n",
        "\n",
        "plt.show()"
      ],
      "execution_count": null,
      "outputs": []
    },
    {
      "cell_type": "markdown",
      "metadata": {
        "id": "-zroDBsyCkGB"
      },
      "source": [
        "### Alterando força de acoplamento (wki)"
      ]
    },
    {
      "cell_type": "code",
      "metadata": {
        "id": "w8q_1OC9CsrX"
      },
      "source": [
        "wki = 0.0"
      ],
      "execution_count": null,
      "outputs": []
    },
    {
      "cell_type": "code",
      "metadata": {
        "id": "6AKYi-TpDrAt"
      },
      "source": [
        "wki = 1.0"
      ],
      "execution_count": null,
      "outputs": []
    },
    {
      "cell_type": "code",
      "metadata": {
        "id": "MOZPhZZKDst4"
      },
      "source": [
        ""
      ],
      "execution_count": null,
      "outputs": []
    },
    {
      "cell_type": "markdown",
      "metadata": {
        "id": "Zgkgz1IO6TK0"
      },
      "source": [
        "## **Conclusões**"
      ]
    },
    {
      "cell_type": "markdown",
      "metadata": {
        "id": "VvragWMOY_Ie"
      },
      "source": [
        "Atráves da simulação e dos gráficos obtidos com ela podemos notar alguns fatos:\n",
        "\n",
        "- Os neurônios, se incialmente estiverem todos ativos, terão a tendência de sempre se sincronizar. Com a variação dos fatores pode demorar mais ou menos tempo, mas isso ocorrerá em algum ponto.\n",
        "\n",
        "- A quantidade de neurônios ativos é um desses fatores citados acima, quanto mais neurônios inativos, maior é a pertubação da rede dificultando a sincronização.\n",
        "\n",
        "- Como é de se imaginar, o acoplamento é essencial para que os neurônios se sincronizem. Se não houver acoplamento cada neurônio manterá seu estado inicial sem ser influenciado pelos outros a sua volta. "
      ]
    },
    {
      "cell_type": "markdown",
      "metadata": {
        "id": "_Gdw2pr-cZ6o"
      },
      "source": [
        "TENTAR RESPODER:\n",
        "\n",
        "*   Qual o tempo para se atingir a sincronização?\n",
        "\n",
        "*   A força de acoplamento importa? **RESPONDIDO**\n",
        "\n",
        "\n",
        "*  Qual o percentual mínimo de neurônios ativos para sincronização?."
      ]
    }
  ]
}
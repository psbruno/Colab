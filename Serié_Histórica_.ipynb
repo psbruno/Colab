{
  "nbformat": 4,
  "nbformat_minor": 0,
  "metadata": {
    "colab": {
      "name": "Serié Histórica .ipynb",
      "provenance": [],
      "collapsed_sections": [],
      "include_colab_link": true
    },
    "kernelspec": {
      "name": "python3",
      "display_name": "Python 3"
    },
    "language_info": {
      "name": "python"
    }
  },
  "cells": [
    {
      "cell_type": "markdown",
      "metadata": {
        "id": "view-in-github",
        "colab_type": "text"
      },
      "source": [
        "<a href=\"https://colab.research.google.com/github/psbruno/Colab/blob/master/Seri%C3%A9_Hist%C3%B3rica_.ipynb\" target=\"_parent\"><img src=\"https://colab.research.google.com/assets/colab-badge.svg\" alt=\"Open In Colab\"/></a>"
      ]
    },
    {
      "cell_type": "code",
      "metadata": {
        "id": "DefN1L68tx04"
      },
      "source": [
        "import pandas as pd\n",
        "import requests\n",
        "from datetime import date, timedelta, datetime\n",
        "import datetime\n",
        "import os\n",
        "import html"
      ],
      "execution_count": 10,
      "outputs": []
    },
    {
      "cell_type": "code",
      "metadata": {
        "id": "OwsfW3pJzsVt"
      },
      "source": [
        "#função para iterar datas\n",
        "def daterange(start_date, end_date):\n",
        "    for i in range(int((end_date - start_date).days)):\n",
        "        yield start_date + timedelta(i)"
      ],
      "execution_count": 12,
      "outputs": []
    },
    {
      "cell_type": "code",
      "metadata": {
        "id": "QrNgDDzpt075"
      },
      "source": [
        "def set_file(dist, aplicados, data):\n",
        "  cod = pd.read_csv(\"/content/Acento_setado (2).csv\").drop(columns='Unnamed: 0').sort_values(\"Indice c/ acento\")\n",
        "  # dist.to_csv(\"AAAA/dist.csv\")\n",
        "  #já mandar ordenado\n",
        "  #aplicados['Código IBGE'] = cod['Código IBGE']\n",
        "  dist['Código IBGE'] = cod['Código IBGE']\n",
        "  dist = dist.sort_values(\"Município\").reset_index().drop(columns='index')\n",
        "  aplicados['Dose'] = aplicados['Dose'].replace(\"1° Dose\",\"1° DOSE\")\n",
        "  aplicados['Dose'] = aplicados['Dose'].replace(\"2° Dose\",\"2° DOSE\")\n",
        "  dose1 = aplicados[(aplicados['Dose']=='1° DOSE')].sort_values(\"Município\").reset_index().drop(columns=\"index\")\n",
        "  \n",
        "  # aplicados.to_csv('/content/AAA/' + data + '.csv')\n",
        "  \n",
        "  dose2 = aplicados[(aplicados['Dose']=='2° DOSE')].sort_values(\"Município\").reset_index().drop(columns=\"index\")\n",
        "  sum = dose1.drop(columns='Dose')\n",
        "  sum['Total 1ª Dose'] = dose1['Total Doses Aplicadas']\n",
        "  sum['Total 2ª Dose'] = dose2['Total Doses Aplicadas']\n",
        "  sum['Total Doses Aplicadas'] = dose1['Total Doses Aplicadas']+dose2['Total Doses Aplicadas']\n",
        "  \n",
        "  \n",
        "  sum['Vacinas Aplicadas/Distribuidas'] = sum['Total Doses Aplicadas']/dist['Qtd-Doses-Distribuidas']\n",
        "  sum['Código IBGE'] = cod['Código IBGE']\n",
        "  #Inserindo população \n",
        "  pop = pd.read_csv(\"IBGE.csv\").sort_values(\"Municipio\").reset_index()\n",
        "  cols= ['Municipio','Populacao_Estimada']\n",
        "  pop = pop[cols]\n",
        "  sum['Populacao'] = pop['Populacao_Estimada']\n",
        "\n",
        "  sum['População Vacinada/População Total'] = sum['Total Doses Aplicadas']/sum['Populacao']\n",
        "  \n",
        "  cols = ['Município','Código IBGE','Populacao',\"Total 1ª Dose\",\n",
        "          \"Total 2ª Dose\",\"Total Doses Aplicadas\",'Vacinas Aplicadas/Distribuidas','População Vacinada/População Total']\n",
        "  \n",
        "  sum['data'] = data\n",
        "  sum[cols].to_csv('./diarios/' + data[5:7] + '/' + data[0:10] + '.csv')\n"
      ],
      "execution_count": 24,
      "outputs": []
    },
    {
      "cell_type": "code",
      "metadata": {
        "id": "eQ3m5jk5zyAg"
      },
      "source": [
        "import os\n",
        "from datetime import date, timedelta, datetime\n",
        "start_date = date(2021, 2, 20)\n",
        "end_date = date(2021, 5, 13)\n",
        "\n",
        "for data in daterange(start_date, end_date):\n",
        "  if(not(os.path.exists('./diarios/' + data.strftime(\"%m\")))):\n",
        "    os.makedirs('./diarios/' + data.strftime(\"%m\"))"
      ],
      "execution_count": 25,
      "outputs": []
    },
    {
      "cell_type": "code",
      "metadata": {
        "id": "9pzmu8lwyrVu"
      },
      "source": [
        "i=0\n",
        "#dia = \n",
        "for data in daterange(start_date, end_date):\n",
        "  i+=1\n",
        "  distribuicao = \"/content/drive/MyDrive/csv/diariossp/dados/distribuicao/\" + data.strftime(\"%m\") + '/' + data.strftime(\"%Y%m%d\") + \"_painel_distribuicao_doses.csv\"\n",
        "  vacinometro =  \"/content/drive/MyDrive/csv/diariossp/dados/vacinometro/\" + data.strftime(\"%m\") + '/' + data.strftime(\"%Y%m%d\") + \"_vacinometro.csv\"\n",
        "  if(os.path.exists(distribuicao) and os.path.exists(vacinometro)):\n",
        "    backup_disp = distribuicao\n",
        "    backup_vacin = vacinometro\n",
        "    \n",
        "    set_file(\n",
        "    pd.read_csv(distribuicao,sep=';').fillna(0).rename(columns={'Municipio':'Município'}).sort_values(\"Município\").reset_index().drop(columns=\"index\"),\n",
        "    pd.read_csv(vacinometro,sep=';').fillna(0).rename(columns={'Municipio':'Município', 'Ds Município':'Município'}).sort_values(\"Município\").reset_index().drop(columns=\"index\"),\n",
        "    str(datetime(data.year, data.month, data.day))\n",
        "    )\n",
        "  if(os.path.exists(distribuicao) and not (os.path.exists(vacinometro))):\n",
        "      backup_disp = distribuicao\n",
        "\n",
        "      set_file(\n",
        "      pd.read_csv(distribuicao,sep=';').fillna(0).rename(columns={'Municipio':'Município'}).sort_values(\"Município\").reset_index().drop(columns=\"index\"),\n",
        "      pd.read_csv(backup_vacin,sep=';').fillna(0).rename(columns={'Municipio':'Município', 'Ds Município':'Município'}).sort_values(\"Município\").reset_index().drop(columns=\"index\"),\n",
        "      str(datetime(data.year, data.month, data.day))\n",
        "      )\n",
        "  if(not os.path.exists(distribuicao) and os.path.exists(vacinometro)):\n",
        "      backup_vacin = vacinometro\n",
        "      set_file(\n",
        "      pd.read_csv(backup_disp,sep=';').fillna(0).rename(columns={'Municipio':'Município'}).sort_values(\"Município\").reset_index().drop(columns=\"index\"),\n",
        "      pd.read_csv(vacinometro,sep=';').fillna(0).rename(columns={'Municipio':'Município', 'Ds Município':'Município'}).sort_values(\"Município\").reset_index().drop(columns=\"index\"),\n",
        "      str(datetime(data.year, data.month, data.day))\n",
        "      )\n",
        "  if(not os.path.exists(distribuicao) and not os.path.exists(vacinometro)):\n",
        "\n",
        "      set_file(\n",
        "      pd.read_csv(backup_disp,sep=';').fillna(0).rename(columns={'Municipio':'Município'}).sort_values(\"Município\").reset_index().drop(columns=\"index\"),\n",
        "      pd.read_csv(backup_vacin,sep=';').fillna(0).rename(columns={'Municipio':'Município', 'Ds Município':'Município'}).sort_values(\"Município\").reset_index().drop(columns=\"index\"),\n",
        "      str(datetime(data.year, data.month, data.day))\n",
        "      )\n",
        "    "
      ],
      "execution_count": 34,
      "outputs": []
    },
    {
      "cell_type": "code",
      "metadata": {
        "colab": {
          "base_uri": "https://localhost:8080/"
        },
        "id": "gHkpMNu62HAe",
        "outputId": "c448839a-bdb2-4dd2-b601-92bad118332b"
      },
      "source": [
        "from google.colab import drive\n",
        "drive.mount('/content/drive')"
      ],
      "execution_count": 17,
      "outputs": [
        {
          "output_type": "stream",
          "text": [
            "Mounted at /content/drive\n"
          ],
          "name": "stdout"
        }
      ]
    }
  ]
}